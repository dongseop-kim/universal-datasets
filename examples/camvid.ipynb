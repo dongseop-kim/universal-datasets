{
 "cells": [
  {
   "cell_type": "markdown",
   "metadata": {},
   "source": [
    "### Example for CamVid"
   ]
  },
  {
   "cell_type": "code",
   "execution_count": null,
   "metadata": {},
   "outputs": [],
   "source": [
    "from functools import partial\n",
    "from matplotlib import pyplot as plt\n",
    "\n",
    "from univdt.components import CamVid\n",
    "root_dir = '' # TODO: set root dir"
   ]
  },
  {
   "cell_type": "code",
   "execution_count": null,
   "metadata": {},
   "outputs": [],
   "source": [
    "CamVid = partial(CamVid, root_dir=root_dir, transform=None)\n",
    "\n",
    "camvid_train = CamVid(split='train')\n",
    "print(len(camvid_train))\n",
    "assert len(camvid_train) == 367\n",
    "\n",
    "camvid_val = CamVid(split='val')\n",
    "print(len(camvid_val))\n",
    "assert len(camvid_val) == 101\n",
    "\n",
    "camvid_test = CamVid(split='test')\n",
    "print(len(camvid_test))\n",
    "assert len(camvid_test) == 233"
   ]
  },
  {
   "cell_type": "code",
   "execution_count": null,
   "metadata": {},
   "outputs": [],
   "source": [
    "data = camvid_train.load_data(0)\n",
    "image, mask = data['image'], data['mask']\n",
    "print(image.shape, mask.shape)\n",
    "plt.figure(figsize=(10,5))\n",
    "plt.subplot(1,2,1)\n",
    "plt.imshow(image)\n",
    "plt.subplot(1,2,2)\n",
    "plt.imshow(mask)"
   ]
  },
  {
   "cell_type": "code",
   "execution_count": null,
   "metadata": {},
   "outputs": [],
   "source": [
    "data = camvid_val[0]\n",
    "image, mask, path = data['image'], data['mask'], data['path']\n",
    "print(image.shape, mask.shape)\n",
    "print(path)\n",
    "print(set(mask.flatten()))\n",
    "plt.figure(figsize=(10,5))\n",
    "plt.subplot(1,2,1)\n",
    "plt.imshow(image)\n",
    "plt.subplot(1,2,2)\n",
    "plt.imshow(mask)\n"
   ]
  },
  {
   "cell_type": "code",
   "execution_count": null,
   "metadata": {},
   "outputs": [],
   "source": []
  }
 ],
 "metadata": {
  "kernelspec": {
   "display_name": "base",
   "language": "python",
   "name": "python3"
  },
  "language_info": {
   "codemirror_mode": {
    "name": "ipython",
    "version": 3
   },
   "file_extension": ".py",
   "mimetype": "text/x-python",
   "name": "python",
   "nbconvert_exporter": "python",
   "pygments_lexer": "ipython3",
   "version": "3.10.13"
  }
 },
 "nbformat": 4,
 "nbformat_minor": 2
}
