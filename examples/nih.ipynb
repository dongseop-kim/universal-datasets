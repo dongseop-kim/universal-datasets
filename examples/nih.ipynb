{
 "cells": [
  {
   "cell_type": "code",
   "execution_count": 1,
   "metadata": {},
   "outputs": [],
   "source": [
    "%load_ext autoreload\n",
    "%autoreload 2\n",
    "%config Completer.use_jedi = False\n",
    "\n",
    "from functools import partial\n",
    "from matplotlib import pyplot as plt\n",
    "\n",
    "from univdt.components import NIH"
   ]
  },
  {
   "cell_type": "code",
   "execution_count": null,
   "metadata": {},
   "outputs": [],
   "source": [
    "root_dir = '' # TODO: set root dir\n",
    "nih = partial(NIH, root_dir=root_dir, transform=None)\n",
    "\n",
    "nih_train = nih(split='train')\n",
    "print(len(nih_train))\n",
    "assert len(nih_train) == 76599\n",
    "\n",
    "nih_val = nih(split='val')\n",
    "print(len(nih_val))\n",
    "assert len(nih_val) == 9925\n",
    "\n",
    "nih_test = nih(split='test')\n",
    "print(len(nih_test))\n",
    "assert len(nih_test) == 25596\n",
    "\n",
    "nih_trainval = nih(split='trainval')\n",
    "print(len(nih_trainval))\n",
    "assert len(nih_trainval) == 76599+9925"
   ]
  }
 ],
 "metadata": {
  "kernelspec": {
   "display_name": "base",
   "language": "python",
   "name": "python3"
  },
  "language_info": {
   "codemirror_mode": {
    "name": "ipython",
    "version": 3
   },
   "file_extension": ".py",
   "mimetype": "text/x-python",
   "name": "python",
   "nbconvert_exporter": "python",
   "pygments_lexer": "ipython3",
   "version": "3.10.13"
  }
 },
 "nbformat": 4,
 "nbformat_minor": 2
}
